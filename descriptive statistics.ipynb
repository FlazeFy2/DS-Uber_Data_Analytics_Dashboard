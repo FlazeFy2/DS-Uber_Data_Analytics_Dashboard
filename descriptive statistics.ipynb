{
 "cells": [
  {
   "cell_type": "code",
   "execution_count": 6,
   "id": "72e865af-8c17-4a9f-8790-4071e64a215f",
   "metadata": {},
   "outputs": [
    {
     "name": "stdout",
     "output_type": "stream",
     "text": [
      "Max of Driver Ratings : 5.0\n",
      "Min of Driver Ratings : 3.0\n",
      "Range of Driver Ratings : 2.0\n",
      "Mean of Driver Ratings : 4.23\n",
      "Mode of Driver Ratings : 4.3\n",
      "Variance of Driver Ratings : 0.19\n",
      "Standard Deviance of Driver Ratings : 0.44\n",
      "\n",
      "Max of Customer Rating : 5.0\n",
      "Min of Customer Rating : 3.0\n",
      "Range of Customer Rating : 2.0\n",
      "Mean of Customer Rating : 4.4\n",
      "Mode of Customer Rating : 4.9\n",
      "Variance of Customer Rating : 0.19\n",
      "Standard Deviance of Customer Rating : 0.44\n",
      "\n",
      "Max of Ride Distance : 50.0\n",
      "Min of Ride Distance : 2.0\n",
      "Range of Ride Distance : 48.0\n",
      "Mean of Ride Distance : 26.0\n",
      "Mode of Ride Distance : 9.61\n",
      "Variance of Ride Distance : 191.11\n",
      "Standard Deviance of Ride Distance : 13.82\n",
      "\n",
      "Max of Avg Ctat : 45.0\n",
      "Min of Avg Ctat : 15.0\n",
      "Range of Avg Ctat : 30.0\n",
      "Mean of Avg Ctat : 30.03\n",
      "Mode of Avg Ctat : 42.8\n",
      "Variance of Avg Ctat : 74.83\n",
      "Standard Deviance of Avg Ctat : 8.65\n",
      "\n",
      "Max of Avg Vtat : 15.0\n",
      "Min of Avg Vtat : 2.0\n",
      "Range of Avg Vtat : 13.0\n",
      "Mean of Avg Vtat : 8.51\n",
      "Mode of Avg Vtat : 5.1\n",
      "Variance of Avg Vtat : 14.05\n",
      "Standard Deviance of Avg Vtat : 3.75\n",
      "\n",
      "Max of Booking Value : 4277.0\n",
      "Min of Booking Value : 50.0\n",
      "Range of Booking Value : 4227.0\n",
      "Mean of Booking Value : 508.18\n",
      "Mode of Booking Value : 125.0\n",
      "Variance of Booking Value : 156862.55\n",
      "Standard Deviance of Booking Value : 396.06\n",
      "\n"
     ]
    }
   ],
   "source": [
    "import pandas as pd\n",
    "import statistics\n",
    "import numpy as np\n",
    "\n",
    "# Declaration\n",
    "data = pd.read_csv(\"ncr_ride_bookings.csv\")\n",
    "\n",
    "target_col = ['Driver Ratings','Customer Rating','Ride Distance','Avg CTAT','Avg VTAT','Booking Value']\n",
    "\n",
    "for dt in target_col:\n",
    "    # Convert to int\n",
    "    data[dt] = pd.to_numeric(data[dt], errors='coerce')\n",
    "    \n",
    "    # Remove NaN\n",
    "    data = data.dropna(subset=[dt])\n",
    "\n",
    "    max_val = data[dt].max()\n",
    "    min_val = data[dt].min()\n",
    "    range_val = max_val - min_val\n",
    "    mean = round(data[dt].mean(),2)\n",
    "    mode = round(statistics.mode(data[dt]),2)\n",
    "    var = round(np.nanvar(data[dt],ddof=1),2)\n",
    "    std = round(var ** 0.5,2)\n",
    "\n",
    "    print(f\"Max of {dt.title()} : {max_val}\")\n",
    "    print(f\"Min of {dt.title()} : {min_val}\")\n",
    "    print(f\"Range of {dt.title()} : {range_val}\")\n",
    "    print(f\"Mean of {dt.title()} : {mean}\")\n",
    "    print(f\"Mode of {dt.title()} : {mode}\")\n",
    "    print(f\"Variance of {dt.title()} : {var}\")\n",
    "    print(f\"Standard Deviance of {dt.title()} : {std}\\n\")"
   ]
  },
  {
   "cell_type": "code",
   "execution_count": null,
   "id": "c07cda41-b4c5-4d5d-88c7-4a93e13495a9",
   "metadata": {},
   "outputs": [],
   "source": []
  }
 ],
 "metadata": {
  "kernelspec": {
   "display_name": "Python [conda env:base] *",
   "language": "python",
   "name": "conda-base-py"
  },
  "language_info": {
   "codemirror_mode": {
    "name": "ipython",
    "version": 3
   },
   "file_extension": ".py",
   "mimetype": "text/x-python",
   "name": "python",
   "nbconvert_exporter": "python",
   "pygments_lexer": "ipython3",
   "version": "3.12.7"
  }
 },
 "nbformat": 4,
 "nbformat_minor": 5
}
